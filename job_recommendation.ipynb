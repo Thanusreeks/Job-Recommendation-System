{
 "cells": [
  {
   "cell_type": "code",
   "execution_count": 74,
   "metadata": {},
   "outputs": [],
   "source": [
    "#import necessary libraries\n",
    "import pandas as pd\n",
    "from sklearn.feature_extraction.text import TfidfVectorizer\n",
    "from sklearn.cluster import KMeans\n",
    "from sklearn.metrics.pairwise import cosine_similarity\n",
    "import matplotlib.pyplot as plt\n",
    "from kneed import KneeLocator"
   ]
  },
  {
   "cell_type": "code",
   "execution_count": 75,
   "metadata": {},
   "outputs": [],
   "source": [
    "# Load dataset\n",
    "df = pd.read_csv('C:/Users/Thanusree/Documents/Projects/job_recommendation.csv')"
   ]
  },
  {
   "cell_type": "code",
   "execution_count": 76,
   "metadata": {},
   "outputs": [
    {
     "data": {
      "text/html": [
       "<div>\n",
       "<style scoped>\n",
       "    .dataframe tbody tr th:only-of-type {\n",
       "        vertical-align: middle;\n",
       "    }\n",
       "\n",
       "    .dataframe tbody tr th {\n",
       "        vertical-align: top;\n",
       "    }\n",
       "\n",
       "    .dataframe thead th {\n",
       "        text-align: right;\n",
       "    }\n",
       "</style>\n",
       "<table border=\"1\" class=\"dataframe\">\n",
       "  <thead>\n",
       "    <tr style=\"text-align: right;\">\n",
       "      <th></th>\n",
       "      <th>Job Title</th>\n",
       "      <th>Job Salary</th>\n",
       "      <th>Job Experience Required</th>\n",
       "      <th>Key Skills</th>\n",
       "      <th>Role Category</th>\n",
       "      <th>Functional Area</th>\n",
       "      <th>Industry</th>\n",
       "    </tr>\n",
       "  </thead>\n",
       "  <tbody>\n",
       "    <tr>\n",
       "      <th>0</th>\n",
       "      <td>Media Planning Executive/Manager</td>\n",
       "      <td>Not Disclosed by Recruiter</td>\n",
       "      <td>5 - 10 yrs</td>\n",
       "      <td>Media Planning| Digital Media</td>\n",
       "      <td>Advertising</td>\n",
       "      <td>Marketing , Advertising , MR , PR , Media Planning</td>\n",
       "      <td>Advertising, PR, MR, Event Management</td>\n",
       "    </tr>\n",
       "    <tr>\n",
       "      <th>1</th>\n",
       "      <td>Sales Executive/Officer</td>\n",
       "      <td>Not Disclosed by Recruiter</td>\n",
       "      <td>2 - 5 yrs</td>\n",
       "      <td>pre sales| closing| software knowledge| clients| requirements| negotiating| client| online bidding| good communication| technology</td>\n",
       "      <td>Retail Sales</td>\n",
       "      <td>Sales , Retail , Business Development</td>\n",
       "      <td>IT-Software, Software Services</td>\n",
       "    </tr>\n",
       "    <tr>\n",
       "      <th>2</th>\n",
       "      <td>R&amp;D Executive</td>\n",
       "      <td>Not Disclosed by Recruiter</td>\n",
       "      <td>0 - 1 yrs</td>\n",
       "      <td>Computer science| Fabrication| Quality check| Intellectual property| Electronics| Support services| Research| Management| Human resource management| Research Executive</td>\n",
       "      <td>R&amp;D</td>\n",
       "      <td>Engineering Design , R&amp;D</td>\n",
       "      <td>Recruitment, Staffing</td>\n",
       "    </tr>\n",
       "    <tr>\n",
       "      <th>3</th>\n",
       "      <td>Technical Support Engineer</td>\n",
       "      <td>2,00,000 - 4,00,000 PA.</td>\n",
       "      <td>0 - 5 yrs</td>\n",
       "      <td>Technical Support</td>\n",
       "      <td>Admin/Maintenance/Security/Datawarehousing</td>\n",
       "      <td>IT Software - Application Programming , Maintenance</td>\n",
       "      <td>IT-Software, Software Services</td>\n",
       "    </tr>\n",
       "    <tr>\n",
       "      <th>4</th>\n",
       "      <td>Testing Engineer</td>\n",
       "      <td>Not Disclosed by Recruiter</td>\n",
       "      <td>2 - 5 yrs</td>\n",
       "      <td>manual testing| test engineering| test cases| web testing| web technologies</td>\n",
       "      <td>Programming &amp; Design</td>\n",
       "      <td>IT Software - QA &amp; Testing</td>\n",
       "      <td>IT-Software, Software Services</td>\n",
       "    </tr>\n",
       "  </tbody>\n",
       "</table>\n",
       "</div>"
      ],
      "text/plain": [
       "                          Job Title                    Job Salary  \\\n",
       "0  Media Planning Executive/Manager   Not Disclosed by Recruiter    \n",
       "1           Sales Executive/Officer   Not Disclosed by Recruiter    \n",
       "2                     R&D Executive   Not Disclosed by Recruiter    \n",
       "3        Technical Support Engineer       2,00,000 - 4,00,000 PA.   \n",
       "4                  Testing Engineer   Not Disclosed by Recruiter    \n",
       "\n",
       "  Job Experience Required  \\\n",
       "0              5 - 10 yrs   \n",
       "1               2 - 5 yrs   \n",
       "2               0 - 1 yrs   \n",
       "3               0 - 5 yrs   \n",
       "4               2 - 5 yrs   \n",
       "\n",
       "                                                                                                                                                                 Key Skills  \\\n",
       "0                                                                                                                                             Media Planning| Digital Media   \n",
       "1                                        pre sales| closing| software knowledge| clients| requirements| negotiating| client| online bidding| good communication| technology   \n",
       "2   Computer science| Fabrication| Quality check| Intellectual property| Electronics| Support services| Research| Management| Human resource management| Research Executive   \n",
       "3                                                                                                                                                         Technical Support   \n",
       "4                                                                                               manual testing| test engineering| test cases| web testing| web technologies   \n",
       "\n",
       "                                Role Category  \\\n",
       "0                                 Advertising   \n",
       "1                                Retail Sales   \n",
       "2                                         R&D   \n",
       "3  Admin/Maintenance/Security/Datawarehousing   \n",
       "4                        Programming & Design   \n",
       "\n",
       "                                       Functional Area  \\\n",
       "0   Marketing , Advertising , MR , PR , Media Planning   \n",
       "1                Sales , Retail , Business Development   \n",
       "2                             Engineering Design , R&D   \n",
       "3  IT Software - Application Programming , Maintenance   \n",
       "4                           IT Software - QA & Testing   \n",
       "\n",
       "                                Industry  \n",
       "0  Advertising, PR, MR, Event Management  \n",
       "1         IT-Software, Software Services  \n",
       "2                  Recruitment, Staffing  \n",
       "3         IT-Software, Software Services  \n",
       "4         IT-Software, Software Services  "
      ]
     },
     "execution_count": 76,
     "metadata": {},
     "output_type": "execute_result"
    }
   ],
   "source": [
    "df.head()"
   ]
  },
  {
   "cell_type": "code",
   "execution_count": 77,
   "metadata": {},
   "outputs": [
    {
     "data": {
      "text/html": [
       "<div>\n",
       "<style scoped>\n",
       "    .dataframe tbody tr th:only-of-type {\n",
       "        vertical-align: middle;\n",
       "    }\n",
       "\n",
       "    .dataframe tbody tr th {\n",
       "        vertical-align: top;\n",
       "    }\n",
       "\n",
       "    .dataframe thead th {\n",
       "        text-align: right;\n",
       "    }\n",
       "</style>\n",
       "<table border=\"1\" class=\"dataframe\">\n",
       "  <thead>\n",
       "    <tr style=\"text-align: right;\">\n",
       "      <th></th>\n",
       "      <th>Job Title</th>\n",
       "      <th>Job Salary</th>\n",
       "      <th>Job Experience Required</th>\n",
       "      <th>Key Skills</th>\n",
       "      <th>Role Category</th>\n",
       "      <th>Functional Area</th>\n",
       "      <th>Industry</th>\n",
       "    </tr>\n",
       "  </thead>\n",
       "  <tbody>\n",
       "    <tr>\n",
       "      <th>994</th>\n",
       "      <td>Assistant Professor</td>\n",
       "      <td>Not Disclosed by Recruiter</td>\n",
       "      <td>2 - 5 yrs</td>\n",
       "      <td>Counselor| Mentor| Trainer| Advisor| Teaching</td>\n",
       "      <td>University Level</td>\n",
       "      <td>Teaching , Education , Training , Counselling</td>\n",
       "      <td>Education, Teaching, Training</td>\n",
       "    </tr>\n",
       "    <tr>\n",
       "      <th>995</th>\n",
       "      <td>Associate/Senior Associate -(NonTechnical)</td>\n",
       "      <td>50,000 - 3,00,000 PA.</td>\n",
       "      <td>0 - 5 yrs</td>\n",
       "      <td>international bpo| customer care| domestic| outbound process| sales process| Domestic BPO| bpo fresher| bpo executive</td>\n",
       "      <td>Voice</td>\n",
       "      <td>ITES , BPO , KPO , LPO , Customer Service , Operations</td>\n",
       "      <td>BPO, Call Centre, ITeS</td>\n",
       "    </tr>\n",
       "    <tr>\n",
       "      <th>996</th>\n",
       "      <td>System Administrator</td>\n",
       "      <td>Not Disclosed by Recruiter</td>\n",
       "      <td>6 - 8 yrs</td>\n",
       "      <td>network automation| Customer management| Customer satisfaction| Trend analysis| Effort estimation| Management| Software services</td>\n",
       "      <td>Admin/Maintenance/Security/Datawarehousing</td>\n",
       "      <td>IT Software - Application Programming , Maintenance</td>\n",
       "      <td>Recruitment, Staffing</td>\n",
       "    </tr>\n",
       "    <tr>\n",
       "      <th>997</th>\n",
       "      <td>Assistant Manager/Manager-(NonTechnical)</td>\n",
       "      <td>Not Disclosed by Recruiter</td>\n",
       "      <td>6 - 7 yrs</td>\n",
       "      <td>Copy Editor| Language Expert| Quality check</td>\n",
       "      <td>Back Office/Web/Transaction Processing</td>\n",
       "      <td>ITES , BPO , KPO , LPO , Customer Service , Operations</td>\n",
       "      <td>IT-Software, Software Services</td>\n",
       "    </tr>\n",
       "    <tr>\n",
       "      <th>998</th>\n",
       "      <td>System Administrator</td>\n",
       "      <td>Not Disclosed by Recruiter</td>\n",
       "      <td>5 - 8 Years</td>\n",
       "      <td>Hive|Linux|Hadoop|Cloud|Hdfs|Spark|Clustering|YARN|AWS|Devops</td>\n",
       "      <td>Admin/Maintenance/Security/Datawarehousing</td>\n",
       "      <td>IT Software - DBA , Datawarehousing</td>\n",
       "      <td>IT-Software / Software Services</td>\n",
       "    </tr>\n",
       "  </tbody>\n",
       "</table>\n",
       "</div>"
      ],
      "text/plain": [
       "                                      Job Title                    Job Salary  \\\n",
       "994                         Assistant Professor   Not Disclosed by Recruiter    \n",
       "995  Associate/Senior Associate -(NonTechnical)         50,000 - 3,00,000 PA.   \n",
       "996                        System Administrator   Not Disclosed by Recruiter    \n",
       "997    Assistant Manager/Manager-(NonTechnical)   Not Disclosed by Recruiter    \n",
       "998                        System Administrator    Not Disclosed by Recruiter   \n",
       "\n",
       "    Job Experience Required  \\\n",
       "994               2 - 5 yrs   \n",
       "995               0 - 5 yrs   \n",
       "996               6 - 8 yrs   \n",
       "997               6 - 7 yrs   \n",
       "998             5 - 8 Years   \n",
       "\n",
       "                                                                                                                            Key Skills  \\\n",
       "994                                                                                      Counselor| Mentor| Trainer| Advisor| Teaching   \n",
       "995              international bpo| customer care| domestic| outbound process| sales process| Domestic BPO| bpo fresher| bpo executive   \n",
       "996   network automation| Customer management| Customer satisfaction| Trend analysis| Effort estimation| Management| Software services   \n",
       "997                                                                                        Copy Editor| Language Expert| Quality check   \n",
       "998                                                                      Hive|Linux|Hadoop|Cloud|Hdfs|Spark|Clustering|YARN|AWS|Devops   \n",
       "\n",
       "                                  Role Category  \\\n",
       "994                            University Level   \n",
       "995                                       Voice   \n",
       "996  Admin/Maintenance/Security/Datawarehousing   \n",
       "997      Back Office/Web/Transaction Processing   \n",
       "998  Admin/Maintenance/Security/Datawarehousing   \n",
       "\n",
       "                                            Functional Area  \\\n",
       "994           Teaching , Education , Training , Counselling   \n",
       "995  ITES , BPO , KPO , LPO , Customer Service , Operations   \n",
       "996     IT Software - Application Programming , Maintenance   \n",
       "997  ITES , BPO , KPO , LPO , Customer Service , Operations   \n",
       "998                     IT Software - DBA , Datawarehousing   \n",
       "\n",
       "                            Industry  \n",
       "994    Education, Teaching, Training  \n",
       "995           BPO, Call Centre, ITeS  \n",
       "996            Recruitment, Staffing  \n",
       "997   IT-Software, Software Services  \n",
       "998  IT-Software / Software Services  "
      ]
     },
     "execution_count": 77,
     "metadata": {},
     "output_type": "execute_result"
    }
   ],
   "source": [
    "df.tail()"
   ]
  },
  {
   "cell_type": "code",
   "execution_count": 78,
   "metadata": {},
   "outputs": [
    {
     "data": {
      "text/plain": [
       "Job Title                  0\n",
       "Job Salary                 0\n",
       "Job Experience Required    0\n",
       "Key Skills                 0\n",
       "Role Category              0\n",
       "Functional Area            0\n",
       "Industry                   0\n",
       "dtype: int64"
      ]
     },
     "execution_count": 78,
     "metadata": {},
     "output_type": "execute_result"
    }
   ],
   "source": [
    "# Checking missing values\n",
    "df.isna().sum()"
   ]
  },
  {
   "cell_type": "code",
   "execution_count": 79,
   "metadata": {},
   "outputs": [],
   "source": [
    "# Feature extraction\n",
    "vectorizer=TfidfVectorizer(stop_words='english',lowercase=True)\n",
    "df_final=vectorizer.fit_transform(df['Key Skills'])"
   ]
  },
  {
   "cell_type": "code",
   "execution_count": 80,
   "metadata": {},
   "outputs": [],
   "source": [
    "# Optimal number of clusters using elbow method\n",
    "wcss=[]\n",
    "K_range=range(2, 10)  \n",
    "\n",
    "for k in K_range:\n",
    "    kmeans=KMeans(n_clusters=k, random_state=42,init='k-means++')\n",
    "    kmeans.fit(df_final)\n",
    "    wcss.append(kmeans.inertia_)  "
   ]
  },
  {
   "cell_type": "code",
   "execution_count": 81,
   "metadata": {},
   "outputs": [],
   "source": [
    "knee=KneeLocator(K_range,wcss,curve='convex',direction='decreasing')\n",
    "num_clusters=knee.knee"
   ]
  },
  {
   "cell_type": "code",
   "execution_count": 82,
   "metadata": {},
   "outputs": [
    {
     "data": {
      "image/png": "[encoded data removed]",
      "text/plain": [
       "<Figure size 800x500 with 1 Axes>"
      ]
     },
     "metadata": {},
     "output_type": "display_data"
    }
   ],
   "source": [
    "plt.figure(figsize=(8, 5))\n",
    "plt.plot(K_range,wcss,marker='o')\n",
    "plt.axvline(x=num_clusters,color='red',linestyle='--')\n",
    "plt.xlabel('Number of Clusters')\n",
    "plt.ylabel('WCSS')\n",
    "plt.title('Elbow Method for Optimal K')\n",
    "plt.show()"
   ]
  },
  {
   "cell_type": "code",
   "execution_count": 83,
   "metadata": {},
   "outputs": [],
   "source": [
    "# Clustering using K-Means\n",
    "kmeans = KMeans(n_clusters=num_clusters, random_state=42,init='k-means++')\n",
    "df['Cluster']=kmeans.fit_predict(df_final)"
   ]
  },
  {
   "cell_type": "code",
   "execution_count": 84,
   "metadata": {},
   "outputs": [],
   "source": [
    "# Job Recommendation\n",
    "def recommend_jobs(user_input,top_n=5,similarity_threshold=0.1):\n",
    "\n",
    "    if not user_input.strip():\n",
    "        return \"Please provide valid input skills.\"\n",
    "    \n",
    "    user_tfidf=vectorizer.transform([user_input])\n",
    "    user_cluster=kmeans.predict(user_tfidf)[0]  \n",
    "    \n",
    "    \n",
    "    cluster_jobs=df[df['Cluster'] == user_cluster].copy()\n",
    "    \n",
    "    similarities = cosine_similarity(user_tfidf, df_final[cluster_jobs.index]).flatten()\n",
    "\n",
    "    cluster_jobs['Similarity']=similarities\n",
    "\n",
    "    cluster_jobs=cluster_jobs[cluster_jobs['Similarity'] >= similarity_threshold]\n",
    "    \n",
    "    if cluster_jobs.empty:\n",
    "        return \"No relevant jobs found. Please refine your input.\"\n",
    "    \n",
    "    cluster_jobs = cluster_jobs.sort_values(by='Similarity', ascending=False)\n",
    "    \n",
    "    return cluster_jobs[['Job Title', 'Key Skills','Job Experience Required','Job Salary','Industry']].reset_index(drop=True).head(top_n)\n"
   ]
  },
  {
   "cell_type": "code",
   "execution_count": 97,
   "metadata": {},
   "outputs": [
    {
     "name": "stdout",
     "output_type": "stream",
     "text": [
      "            Job Title  \\\n",
      "0  Software Developer   \n",
      "1  Software Developer   \n",
      "2  Software Developer   \n",
      "3    Testing Engineer   \n",
      "4  Software Developer   \n",
      "\n",
      "                                                                                                                                                      Key Skills  \\\n",
      "0                                                                                                              financial s| windows| android| mobile development   \n",
      "1                                                                                PHP| Android| SEO| Facebook| Pharma| Email| Architecture| mbbs| Linkedin| Usage   \n",
      "2  Design Development|Software Engineering|Lighting|Computer Science|Product Quality|Automation Testing|Asset Management|GUI|Object Oriented Programming|Android   \n",
      "3                      Manual testing| Eclipse| Coding| Scrum| Enterprise applications| Healthcare| JIRA| Android SDK| test driven development| Business Analyst   \n",
      "4                                    Android| Troubleshooting| Middleware| Firmware| SOC| Linux kernel| Bluetooth| Computer science| Test scripts| Test strategy   \n",
      "\n",
      "  Job Experience Required                    Job Salary  \\\n",
      "0               3 - 8 yrs   Not Disclosed by Recruiter    \n",
      "1               0 - 1 yrs   Not Disclosed by Recruiter    \n",
      "2             3 - 8 Years                   Openings: 1   \n",
      "3               3 - 8 yrs   Not Disclosed by Recruiter    \n",
      "4             10 - 12 yrs   Not Disclosed by Recruiter    \n",
      "\n",
      "                         Industry  \n",
      "0  IT-Software, Software Services  \n",
      "1  IT-Software, Software Services  \n",
      "2                   Telecom / ISP  \n",
      "3  Medical, Healthcare, Hospitals  \n",
      "4     Semiconductors, Electronics  \n"
     ]
    }
   ],
   "source": [
    "pd.set_option('display.max_colwidth', None) \n",
    "\n",
    "print(recommend_jobs('Looking for a job in android'))\n"
   ]
  },
  {
   "cell_type": "code",
   "execution_count": null,
   "metadata": {},
   "outputs": [],
   "source": []
  }
 ],
 "metadata": {
  "kernelspec": {
   "display_name": "Python 3",
   "language": "python",
   "name": "python3"
  },
  "language_info": {
   "codemirror_mode": {
    "name": "ipython",
    "version": 3
   },
   "file_extension": ".py",
   "mimetype": "text/x-python",
   "name": "python",
   "nbconvert_exporter": "python",
   "pygments_lexer": "ipython3",
   "version": "3.12.0"
  }
 },
 "nbformat": 4,
 "nbformat_minor": 2
}
